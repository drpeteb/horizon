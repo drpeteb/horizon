{
 "cells": [
  {
   "cell_type": "markdown",
   "metadata": {},
   "source": [
    "Every year or so I find myself wondering how far away the horizon is, and I have to repeat this little piece of trigonometry."
   ]
  },
  {
   "cell_type": "code",
   "execution_count": 1,
   "metadata": {
    "collapsed": true
   },
   "outputs": [],
   "source": [
    "# Import stuff\n",
    "%matplotlib inline\n",
    "import numpy as np\n",
    "import matplotlib.pyplot as plt"
   ]
  },
  {
   "cell_type": "code",
   "execution_count": 2,
   "metadata": {},
   "outputs": [
    {
     "data": {
      "text/plain": [
       "<matplotlib.text.Text at 0x7f2ae9c48f60>"
      ]
     },
     "execution_count": 2,
     "metadata": {},
     "output_type": "execute_result"
    },
    {
     "data": {
      "image/png": "[encoded data removed]",
      "text/plain": [
       "<matplotlib.figure.Figure at 0x7f2ae9cbdcf8>"
      ]
     },
     "metadata": {},
     "output_type": "display_data"
    }
   ],
   "source": [
    "# Set up the figure\n",
    "fig = plt.figure(figsize=(12,12))\n",
    "ax = fig.add_subplot(1, 1, 1)\n",
    "ax.set_aspect('equal')\n",
    "ax.set_xlim((-2, 2))\n",
    "ax.set_ylim((-2, 2))\n",
    "ax.get_xaxis().set_ticklabels([])\n",
    "ax.get_yaxis().set_ticklabels([])\n",
    "\n",
    "# Some useful constants\n",
    "rt32 = np.sqrt(3) / 2\n",
    "rt54 = np.sqrt(5) / 4\n",
    "half = 1 / 2\n",
    "h = 0.2\n",
    "\n",
    "# Draw a diagram of the simple geometric model\n",
    "earth = plt.Circle((0, 0), 1, color='k', fill=False)\n",
    "ax.add_artist(earth)\n",
    "ax.plot([0, half], [0, 1], 'b')\n",
    "ax.plot([0, 0], [0, 1], 'b')\n",
    "ax.plot([0, half], [1, 1], 'b')\n",
    "\n",
    "# Put some labels on it\n",
    "ax.text(-0.1, 0.4, 'R', size='xx-large')\n",
    "ax.text(0.2, 1.05, 'd', size='xx-large')\n",
    "ax.text(0.55, 0.90, 'h', size='xx-large')"
   ]
  },
  {
   "cell_type": "markdown",
   "metadata": {},
   "source": [
    "So, we have:\n",
    "<ul>\n",
    "<li>$R$ is the radius of the earth</li>\n",
    "<li>$h$ is the elevation</li>\n",
    "<li>$d$ is the distance to the horizon</li>\n",
    "</ul>\n",
    "\n",
    "This is a very simple model, assuming the earth to be a sphere, but it's probably decent enough when looking out over the sea or a plain, or when $h$ is large, e.g. cruising altitude of a commercial aeroplane.\n",
    "\n",
    "And then just using pythagoras, we find:\n",
    "\n",
    "\\begin{align}\n",
    " (R + h)^2 &= R^2 + d^2 \\\\\n",
    "\\Rightarrow R^2 + 2 R h + h^2 &= R^2 + d^2 \\\\\n",
    "\\Rightarrow 2 R h + h^2 &= d^2\n",
    "\\end{align}\n",
    "\n",
    "\n",
    "And so the formula we need is:\n",
    "$$\n",
    "d = \\sqrt{2 R h + h^2}\n",
    "$$\n",
    "\n",
    "Now, the earth is really big. So however high you are, $h \\ll R$, so with negligible error:\n",
    "$$\n",
    "d \\approx \\sqrt{2 R h}\n",
    "$$"
   ]
  },
  {
   "cell_type": "markdown",
   "metadata": {},
   "source": [
    "Let's put some numbers in. According to google, the radius of the earch is:\n",
    "$$\n",
    "R = 6.4 \\times 10^6m\n",
    "$$\n",
    "\n",
    "Plugging that in gives us:\n",
    "$$\n",
    "d \\approx 3.6 \\times 10^3 \\sqrt{h / m} \\:\\: m\n",
    "$$\n",
    "\n",
    "In words, this means...\n",
    "<i>Take the elevation in metres, square root it and times by 3.6, and that number in kilometres is the distance to the horizon.</i>"
   ]
  },
  {
   "cell_type": "markdown",
   "metadata": {},
   "source": [
    "Here are some examples from around San Francisco, with the distance you can see out to sea (when it isn't foggy):\n",
    "<table>\n",
    "  <tr>\n",
    "    <th>Place</th>\n",
    "    <th>Elevation / m</th>\n",
    "    <th>Horizon Distance / km</th>\n",
    "  </tr>\n",
    "  <tr>\n",
    "    <td>Ocean beach on a calm day</td>\n",
    "    <td>2</td>\n",
    "    <td>5</td>\n",
    "  </tr>\n",
    "  <tr>\n",
    "    <td>The Cliff House</td>\n",
    "    <td>23</td>\n",
    "    <td>17</td>\n",
    "  </tr>\n",
    "  <tr>\n",
    "    <td>Sunset Reservoir</td>\n",
    "    <td>98</td>\n",
    "    <td>36</td>\n",
    "  </tr>\n",
    "  <tr>\n",
    "    <td>Top of twin peaks</td>\n",
    "    <td>282</td>\n",
    "    <td>60</td>\n",
    "  </tr>\n",
    "  <tr>\n",
    "    <td>Top of Mt Tam</td>\n",
    "    <td>784</td>\n",
    "    <td>101</td>\n",
    "  </tr>\n",
    "</table>"
   ]
  }
 ],
 "metadata": {
  "kernelspec": {
   "display_name": "Python 3",
   "language": "python",
   "name": "python3"
  },
  "language_info": {
   "codemirror_mode": {
    "name": "ipython",
    "version": 3
   },
   "file_extension": ".py",
   "mimetype": "text/x-python",
   "name": "python",
   "nbconvert_exporter": "python",
   "pygments_lexer": "ipython3",
   "version": "3.4.3"
  }
 },
 "nbformat": 4,
 "nbformat_minor": 2
}
